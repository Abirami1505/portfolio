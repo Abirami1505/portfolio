{
  "cells": [
    {
      "cell_type": "markdown",
      "metadata": {
        "id": "view-in-github",
        "colab_type": "text"
      },
      "source": [
        "<a href=\"https://colab.research.google.com/github/Abirami1505/portfolio/blob/main/scream-detection/screaming.ipynb\" target=\"_parent\"><img src=\"https://colab.research.google.com/assets/colab-badge.svg\" alt=\"Open In Colab\"/></a>"
      ]
    },
    {
      "cell_type": "code",
      "execution_count": null,
      "metadata": {
        "id": "OcRcO52rR0Ea"
      },
      "outputs": [],
      "source": [
        "import os\n",
        "import librosa\n",
        "import numpy as np\n",
        "import tensorflow as tf\n",
        "from tensorflow.keras.layers import Input, Conv2D, MaxPooling2D, Flatten, Dense\n",
        "from tensorflow.keras.models import Model\n",
        "from tensorflow.keras.optimizers import Adam\n",
        "from sklearn.model_selection import train_test_split\n",
        "from tensorflow.keras.utils import to_categorical\n",
        "from tensorflow.image import resize\n",
        "from tensorflow.keras.models import load_model\n",
        "\n",
        "# Define your folder structure\n",
        "data_dir = '/content/drive/MyDrive/scream_data'\n",
        "classes = [ 'NotScreaming','Screaming']\n",
        "\n",
        "# Load and preprocess audio data\n",
        "def load_and_preprocess_data(data_dir, classes, target_shape=(128, 128)):\n",
        "    data = []\n",
        "    labels = []\n",
        "\n",
        "    for i, class_name in enumerate(classes):\n",
        "        class_dir = os.path.join(data_dir, class_name)\n",
        "        for filename in os.listdir(class_dir):\n",
        "            if filename.endswith('.wav'):\n",
        "                file_path = os.path.join(class_dir, filename)\n",
        "                audio_data, sample_rate = librosa.load(file_path, sr=None)\n",
        "                # Perform preprocessing (e.g., convert to Mel spectrogram and resize)\n",
        "                mel_spectrogram = librosa.feature.melspectrogram(y=audio_data, sr=sample_rate)\n",
        "                mel_spectrogram = resize(np.expand_dims(mel_spectrogram, axis=-1), target_shape)\n",
        "                data.append(mel_spectrogram)\n",
        "                labels.append(i)\n",
        "\n",
        "    return np.array(data), np.array(labels)\n",
        "\n",
        "# Split data into training and testing sets\n",
        "data, labels = load_and_preprocess_data(data_dir, classes)\n",
        "labels = to_categorical(labels, num_classes=len(classes))  # Convert labels to one-hot encoding\n",
        "X_train, X_test, y_train, y_test = train_test_split(data, labels, test_size=0.2, random_state=42)\n",
        "\n",
        "# Create a neural network model\n",
        "input_shape = X_train[0].shape\n",
        "input_layer = Input(shape=input_shape)\n",
        "x = Conv2D(32, (3, 3), activation='relu')(input_layer)\n",
        "x = MaxPooling2D((2, 2))(x)\n",
        "x = Conv2D(64, (3, 3), activation='relu')(x)\n",
        "x = MaxPooling2D((2, 2))(x)\n",
        "x = Flatten()(x)\n",
        "x = Dense(64, activation='relu')(x)\n",
        "output_layer = Dense(len(classes), activation='softmax')(x)\n",
        "model = Model(input_layer, output_layer)"
      ]
    },
    {
      "cell_type": "code",
      "execution_count": null,
      "metadata": {
        "id": "U_sNCDUTXThn"
      },
      "outputs": [],
      "source": [
        "model.compile(optimizer=Adam(learning_rate=0.001), loss='categorical_crossentropy', metrics=['accuracy'])"
      ]
    },
    {
      "cell_type": "code",
      "execution_count": null,
      "metadata": {
        "colab": {
          "background_save": true,
          "base_uri": "https://localhost:8080/"
        },
        "id": "h_RrOmZgXcoc",
        "outputId": "0aece7da-47c6-48ea-9c61-3bc8cda9d75f"
      },
      "outputs": [
        {
          "name": "stdout",
          "output_type": "stream",
          "text": [
            "Epoch 1/100\n",
            "32/32 [==============================] - 26s 781ms/step - loss: 7.3389 - accuracy: 0.6947 - val_loss: 0.6395 - val_accuracy: 0.5929\n",
            "Epoch 2/100\n",
            "32/32 [==============================] - 25s 774ms/step - loss: 0.5827 - accuracy: 0.6472 - val_loss: 0.6114 - val_accuracy: 0.6126\n",
            "Epoch 3/100\n",
            "32/32 [==============================] - 26s 823ms/step - loss: 0.5175 - accuracy: 0.6947 - val_loss: 0.6102 - val_accuracy: 0.6798\n",
            "Epoch 4/100\n",
            "32/32 [==============================] - 26s 820ms/step - loss: 0.4585 - accuracy: 0.7948 - val_loss: 0.6310 - val_accuracy: 0.7312\n",
            "Epoch 5/100\n",
            "32/32 [==============================] - 36s 1s/step - loss: 0.4025 - accuracy: 0.8246 - val_loss: 0.6882 - val_accuracy: 0.7431\n",
            "Epoch 6/100\n",
            "32/32 [==============================] - 26s 821ms/step - loss: 0.3116 - accuracy: 0.8474 - val_loss: 0.8046 - val_accuracy: 0.7312\n",
            "Epoch 7/100\n",
            "32/32 [==============================] - 26s 799ms/step - loss: 0.2382 - accuracy: 0.8940 - val_loss: 0.9573 - val_accuracy: 0.7628\n",
            "Epoch 8/100\n",
            "32/32 [==============================] - 25s 790ms/step - loss: 0.2051 - accuracy: 0.9237 - val_loss: 0.9753 - val_accuracy: 0.7470\n",
            "Epoch 9/100\n",
            "32/32 [==============================] - 23s 723ms/step - loss: 0.1814 - accuracy: 0.9376 - val_loss: 1.1141 - val_accuracy: 0.7273\n",
            "Epoch 10/100\n",
            "32/32 [==============================] - 25s 795ms/step - loss: 0.1314 - accuracy: 0.9544 - val_loss: 1.3056 - val_accuracy: 0.7075\n",
            "Epoch 11/100\n",
            "32/32 [==============================] - 26s 826ms/step - loss: 0.1096 - accuracy: 0.9653 - val_loss: 1.5892 - val_accuracy: 0.7312\n",
            "Epoch 12/100\n",
            "32/32 [==============================] - 24s 762ms/step - loss: 0.1452 - accuracy: 0.9663 - val_loss: 1.5768 - val_accuracy: 0.7154\n",
            "Epoch 13/100\n",
            "32/32 [==============================] - 24s 742ms/step - loss: 0.0917 - accuracy: 0.9722 - val_loss: 1.9097 - val_accuracy: 0.7075\n",
            "Epoch 14/100\n",
            "32/32 [==============================] - 26s 819ms/step - loss: 0.0720 - accuracy: 0.9772 - val_loss: 2.0705 - val_accuracy: 0.6996\n",
            "Epoch 15/100\n",
            "32/32 [==============================] - 26s 816ms/step - loss: 0.0591 - accuracy: 0.9832 - val_loss: 2.0797 - val_accuracy: 0.7075\n",
            "Epoch 16/100\n",
            "32/32 [==============================] - 24s 745ms/step - loss: 0.1285 - accuracy: 0.9762 - val_loss: 2.2661 - val_accuracy: 0.7312\n",
            "Epoch 17/100\n",
            "32/32 [==============================] - 24s 750ms/step - loss: 0.1020 - accuracy: 0.9673 - val_loss: 2.4640 - val_accuracy: 0.7549\n",
            "Epoch 18/100\n",
            "32/32 [==============================] - 26s 820ms/step - loss: 0.1113 - accuracy: 0.9703 - val_loss: 1.9288 - val_accuracy: 0.7075\n",
            "Epoch 19/100\n",
            "32/32 [==============================] - 25s 798ms/step - loss: 0.0592 - accuracy: 0.9812 - val_loss: 2.1251 - val_accuracy: 0.7391\n",
            "Epoch 20/100\n",
            "32/32 [==============================] - 24s 747ms/step - loss: 0.0484 - accuracy: 0.9832 - val_loss: 2.4956 - val_accuracy: 0.7233\n",
            "Epoch 21/100\n",
            "32/32 [==============================] - 24s 738ms/step - loss: 0.0414 - accuracy: 0.9851 - val_loss: 2.6819 - val_accuracy: 0.7391\n",
            "Epoch 22/100\n",
            "32/32 [==============================] - 24s 760ms/step - loss: 0.0389 - accuracy: 0.9881 - val_loss: 2.9829 - val_accuracy: 0.7431\n",
            "Epoch 23/100\n",
            "32/32 [==============================] - 24s 745ms/step - loss: 0.0366 - accuracy: 0.9891 - val_loss: 3.0671 - val_accuracy: 0.7194\n",
            "Epoch 24/100\n",
            "32/32 [==============================] - 24s 757ms/step - loss: 0.0377 - accuracy: 0.9871 - val_loss: 3.0784 - val_accuracy: 0.7391\n",
            "Epoch 25/100\n",
            "32/32 [==============================] - 26s 803ms/step - loss: 0.0346 - accuracy: 0.9901 - val_loss: 3.2154 - val_accuracy: 0.7273\n",
            "Epoch 26/100\n",
            "32/32 [==============================] - 25s 780ms/step - loss: 0.0338 - accuracy: 0.9901 - val_loss: 3.3974 - val_accuracy: 0.7312\n",
            "Epoch 27/100\n",
            "32/32 [==============================] - 24s 748ms/step - loss: 0.0308 - accuracy: 0.9941 - val_loss: 3.2984 - val_accuracy: 0.7391\n",
            "Epoch 28/100\n",
            "32/32 [==============================] - 25s 788ms/step - loss: 0.0309 - accuracy: 0.9911 - val_loss: 3.4741 - val_accuracy: 0.7312\n",
            "Epoch 29/100\n",
            "32/32 [==============================] - 32s 1s/step - loss: 0.0289 - accuracy: 0.9931 - val_loss: 3.7345 - val_accuracy: 0.7431\n",
            "Epoch 30/100\n",
            "32/32 [==============================] - 27s 822ms/step - loss: 0.0270 - accuracy: 0.9931 - val_loss: 3.8985 - val_accuracy: 0.7352\n",
            "Epoch 31/100\n",
            "32/32 [==============================] - 25s 776ms/step - loss: 0.1074 - accuracy: 0.9851 - val_loss: 4.9027 - val_accuracy: 0.7589\n",
            "Epoch 32/100\n",
            "32/32 [==============================] - 24s 751ms/step - loss: 0.2065 - accuracy: 0.9683 - val_loss: 3.6835 - val_accuracy: 0.6917\n",
            "Epoch 33/100\n",
            "32/32 [==============================] - 24s 728ms/step - loss: 0.1798 - accuracy: 0.9772 - val_loss: 3.9286 - val_accuracy: 0.7194\n",
            "Epoch 34/100\n",
            "32/32 [==============================] - 25s 774ms/step - loss: 0.1482 - accuracy: 0.9623 - val_loss: 3.1246 - val_accuracy: 0.7233\n",
            "Epoch 35/100\n",
            "32/32 [==============================] - 24s 753ms/step - loss: 0.1935 - accuracy: 0.9732 - val_loss: 3.8093 - val_accuracy: 0.6996\n",
            "Epoch 36/100\n",
            "32/32 [==============================] - 24s 732ms/step - loss: 0.1568 - accuracy: 0.9693 - val_loss: 4.5226 - val_accuracy: 0.7273\n",
            "Epoch 37/100\n",
            "32/32 [==============================] - 25s 778ms/step - loss: 0.0422 - accuracy: 0.9841 - val_loss: 3.7065 - val_accuracy: 0.7115\n",
            "Epoch 38/100\n",
            "32/32 [==============================] - 24s 764ms/step - loss: 0.0340 - accuracy: 0.9911 - val_loss: 3.8986 - val_accuracy: 0.7431\n",
            "Epoch 39/100\n",
            "32/32 [==============================] - 23s 713ms/step - loss: 0.0272 - accuracy: 0.9931 - val_loss: 4.1222 - val_accuracy: 0.7431\n",
            "Epoch 40/100\n",
            "32/32 [==============================] - 25s 773ms/step - loss: 0.0244 - accuracy: 0.9921 - val_loss: 4.1949 - val_accuracy: 0.7431\n",
            "Epoch 41/100\n",
            "32/32 [==============================] - 24s 769ms/step - loss: 0.0243 - accuracy: 0.9941 - val_loss: 4.3573 - val_accuracy: 0.7510\n",
            "Epoch 42/100\n",
            "32/32 [==============================] - 24s 756ms/step - loss: 0.0225 - accuracy: 0.9941 - val_loss: 4.7671 - val_accuracy: 0.7510\n",
            "Epoch 43/100\n",
            "32/32 [==============================] - 26s 824ms/step - loss: 0.0227 - accuracy: 0.9941 - val_loss: 4.7230 - val_accuracy: 0.7589\n",
            "Epoch 44/100\n",
            "32/32 [==============================] - 26s 815ms/step - loss: 0.0200 - accuracy: 0.9950 - val_loss: 4.9199 - val_accuracy: 0.7589\n",
            "Epoch 45/100\n",
            "32/32 [==============================] - 25s 775ms/step - loss: 0.0199 - accuracy: 0.9960 - val_loss: 4.9563 - val_accuracy: 0.7628\n",
            "Epoch 46/100\n",
            "32/32 [==============================] - 24s 761ms/step - loss: 0.0203 - accuracy: 0.9950 - val_loss: 5.3651 - val_accuracy: 0.7470\n",
            "Epoch 47/100\n",
            "32/32 [==============================] - 25s 771ms/step - loss: 0.0190 - accuracy: 0.9941 - val_loss: 5.4492 - val_accuracy: 0.7510\n",
            "Epoch 48/100\n",
            "32/32 [==============================] - 26s 809ms/step - loss: 0.0181 - accuracy: 0.9950 - val_loss: 5.3764 - val_accuracy: 0.7431\n",
            "Epoch 49/100\n",
            "32/32 [==============================] - 24s 746ms/step - loss: 0.0199 - accuracy: 0.9950 - val_loss: 5.6342 - val_accuracy: 0.7391\n",
            "Epoch 50/100\n",
            "32/32 [==============================] - 25s 785ms/step - loss: 0.0183 - accuracy: 0.9960 - val_loss: 5.8833 - val_accuracy: 0.7391\n",
            "Epoch 51/100\n",
            "32/32 [==============================] - 26s 816ms/step - loss: 0.0192 - accuracy: 0.9950 - val_loss: 6.2504 - val_accuracy: 0.7431\n",
            "Epoch 52/100\n",
            "32/32 [==============================] - 25s 781ms/step - loss: 0.0207 - accuracy: 0.9950 - val_loss: 6.3834 - val_accuracy: 0.7470\n",
            "Epoch 53/100\n",
            "32/32 [==============================] - 24s 765ms/step - loss: 0.0186 - accuracy: 0.9941 - val_loss: 6.3261 - val_accuracy: 0.7273\n",
            "Epoch 54/100\n",
            "32/32 [==============================] - 24s 734ms/step - loss: 0.0178 - accuracy: 0.9950 - val_loss: 6.6323 - val_accuracy: 0.7549\n",
            "Epoch 55/100\n",
            "32/32 [==============================] - 25s 772ms/step - loss: 0.0181 - accuracy: 0.9941 - val_loss: 6.3375 - val_accuracy: 0.7510\n",
            "Epoch 56/100\n",
            "32/32 [==============================] - 24s 756ms/step - loss: 0.0225 - accuracy: 0.9931 - val_loss: 6.7623 - val_accuracy: 0.7510\n",
            "Epoch 57/100\n",
            "32/32 [==============================] - 23s 721ms/step - loss: 0.0165 - accuracy: 0.9960 - val_loss: 6.8236 - val_accuracy: 0.7470\n",
            "Epoch 58/100\n",
            "32/32 [==============================] - 24s 770ms/step - loss: 0.0155 - accuracy: 0.9960 - val_loss: 7.0284 - val_accuracy: 0.7510\n",
            "Epoch 59/100\n",
            "32/32 [==============================] - 24s 762ms/step - loss: 0.0152 - accuracy: 0.9960 - val_loss: 7.1193 - val_accuracy: 0.7628\n",
            "Epoch 60/100\n",
            "32/32 [==============================] - 24s 752ms/step - loss: 0.0155 - accuracy: 0.9960 - val_loss: 7.3095 - val_accuracy: 0.7510\n",
            "Epoch 61/100\n",
            "32/32 [==============================] - 24s 770ms/step - loss: 0.0153 - accuracy: 0.9970 - val_loss: 7.4322 - val_accuracy: 0.7549\n",
            "Epoch 62/100\n",
            "32/32 [==============================] - 25s 784ms/step - loss: 0.0152 - accuracy: 0.9960 - val_loss: 7.5956 - val_accuracy: 0.7589\n",
            "Epoch 63/100\n",
            "32/32 [==============================] - 23s 718ms/step - loss: 0.0141 - accuracy: 0.9970 - val_loss: 7.8372 - val_accuracy: 0.7549\n",
            "Epoch 64/100\n",
            "32/32 [==============================] - 25s 772ms/step - loss: 0.0153 - accuracy: 0.9970 - val_loss: 7.9152 - val_accuracy: 0.7589\n",
            "Epoch 65/100\n",
            "32/32 [==============================] - 25s 780ms/step - loss: 0.0151 - accuracy: 0.9960 - val_loss: 8.0687 - val_accuracy: 0.7549\n",
            "Epoch 66/100\n",
            "32/32 [==============================] - 26s 824ms/step - loss: 0.0129 - accuracy: 0.9970 - val_loss: 8.4986 - val_accuracy: 0.7589\n",
            "Epoch 67/100\n",
            "32/32 [==============================] - 25s 772ms/step - loss: 0.0139 - accuracy: 0.9960 - val_loss: 8.7360 - val_accuracy: 0.7510\n",
            "Epoch 68/100\n",
            "32/32 [==============================] - 26s 815ms/step - loss: 0.0123 - accuracy: 0.9970 - val_loss: 8.9855 - val_accuracy: 0.7549\n",
            "Epoch 69/100\n",
            "32/32 [==============================] - 26s 810ms/step - loss: 0.0125 - accuracy: 0.9970 - val_loss: 9.2733 - val_accuracy: 0.7589\n",
            "Epoch 70/100\n",
            "32/32 [==============================] - 24s 747ms/step - loss: 0.0125 - accuracy: 0.9960 - val_loss: 9.3092 - val_accuracy: 0.7510\n",
            "Epoch 71/100\n",
            "32/32 [==============================] - 24s 732ms/step - loss: 0.0127 - accuracy: 0.9980 - val_loss: 9.6788 - val_accuracy: 0.7589\n",
            "Epoch 72/100\n",
            "32/32 [==============================] - 26s 813ms/step - loss: 0.0150 - accuracy: 0.9960 - val_loss: 9.9109 - val_accuracy: 0.7589\n",
            "Epoch 73/100\n",
            "32/32 [==============================] - 26s 803ms/step - loss: 0.0123 - accuracy: 0.9970 - val_loss: 9.9846 - val_accuracy: 0.7510\n",
            "Epoch 74/100\n",
            "32/32 [==============================] - 23s 732ms/step - loss: 0.0116 - accuracy: 0.9980 - val_loss: 10.1882 - val_accuracy: 0.7470\n",
            "Epoch 75/100\n",
            "32/32 [==============================] - 27s 847ms/step - loss: 0.0121 - accuracy: 0.9980 - val_loss: 10.3855 - val_accuracy: 0.7470\n",
            "Epoch 76/100\n",
            "32/32 [==============================] - 25s 772ms/step - loss: 0.0120 - accuracy: 0.9980 - val_loss: 10.7100 - val_accuracy: 0.7549\n",
            "Epoch 77/100\n",
            "32/32 [==============================] - 24s 745ms/step - loss: 0.0134 - accuracy: 0.9980 - val_loss: 10.9328 - val_accuracy: 0.7589\n",
            "Epoch 78/100\n",
            "32/32 [==============================] - 25s 763ms/step - loss: 0.0112 - accuracy: 0.9980 - val_loss: 11.0817 - val_accuracy: 0.7510\n",
            "Epoch 79/100\n",
            "32/32 [==============================] - 24s 757ms/step - loss: 0.0137 - accuracy: 0.9970 - val_loss: 11.3194 - val_accuracy: 0.7628\n",
            "Epoch 80/100\n",
            "32/32 [==============================] - 24s 757ms/step - loss: 0.0113 - accuracy: 0.9980 - val_loss: 11.4937 - val_accuracy: 0.7589\n",
            "Epoch 81/100\n",
            "32/32 [==============================] - 24s 752ms/step - loss: 0.0111 - accuracy: 0.9980 - val_loss: 11.5432 - val_accuracy: 0.7549\n",
            "Epoch 82/100\n",
            "32/32 [==============================] - 24s 745ms/step - loss: 0.0129 - accuracy: 0.9980 - val_loss: 11.2051 - val_accuracy: 0.7589\n",
            "Epoch 83/100\n",
            "32/32 [==============================] - 24s 760ms/step - loss: 0.0110 - accuracy: 0.9980 - val_loss: 11.5127 - val_accuracy: 0.7628\n",
            "Epoch 84/100\n",
            "32/32 [==============================] - 24s 748ms/step - loss: 0.2829 - accuracy: 0.9802 - val_loss: 14.7460 - val_accuracy: 0.7273\n",
            "Epoch 85/100\n",
            "32/32 [==============================] - 26s 816ms/step - loss: 2.6621 - accuracy: 0.8593 - val_loss: 6.7001 - val_accuracy: 0.7154\n",
            "Epoch 86/100\n",
            "32/32 [==============================] - 26s 807ms/step - loss: 0.6126 - accuracy: 0.8503 - val_loss: 2.2011 - val_accuracy: 0.7036\n",
            "Epoch 87/100\n",
            "32/32 [==============================] - 24s 765ms/step - loss: 0.2763 - accuracy: 0.8474 - val_loss: 3.2532 - val_accuracy: 0.7391\n",
            "Epoch 88/100\n",
            "32/32 [==============================] - 24s 765ms/step - loss: 0.2052 - accuracy: 0.8930 - val_loss: 4.0991 - val_accuracy: 0.7312\n",
            "Epoch 89/100\n",
            "32/32 [==============================] - 24s 750ms/step - loss: 0.1278 - accuracy: 0.9326 - val_loss: 5.0385 - val_accuracy: 0.7273\n",
            "Epoch 90/100\n",
            "32/32 [==============================] - 25s 782ms/step - loss: 0.1399 - accuracy: 0.9534 - val_loss: 6.1833 - val_accuracy: 0.7549\n",
            "Epoch 91/100\n",
            "32/32 [==============================] - 24s 754ms/step - loss: 0.1248 - accuracy: 0.9514 - val_loss: 4.7425 - val_accuracy: 0.7391\n",
            "Epoch 92/100\n",
            "32/32 [==============================] - 24s 761ms/step - loss: 0.0857 - accuracy: 0.9713 - val_loss: 5.0328 - val_accuracy: 0.7233\n",
            "Epoch 93/100\n",
            "32/32 [==============================] - 24s 748ms/step - loss: 0.0655 - accuracy: 0.9713 - val_loss: 5.8593 - val_accuracy: 0.7273\n",
            "Epoch 94/100\n",
            "32/32 [==============================] - 24s 739ms/step - loss: 0.0541 - accuracy: 0.9742 - val_loss: 6.1784 - val_accuracy: 0.7352\n",
            "Epoch 95/100\n",
            "32/32 [==============================] - 27s 847ms/step - loss: 0.0469 - accuracy: 0.9802 - val_loss: 6.4245 - val_accuracy: 0.7431\n",
            "Epoch 96/100\n",
            "32/32 [==============================] - 24s 760ms/step - loss: 0.0456 - accuracy: 0.9792 - val_loss: 6.6379 - val_accuracy: 0.7431\n",
            "Epoch 97/100\n",
            "32/32 [==============================] - 23s 722ms/step - loss: 0.0417 - accuracy: 0.9792 - val_loss: 6.8446 - val_accuracy: 0.7431\n",
            "Epoch 98/100\n",
            "32/32 [==============================] - 32s 982ms/step - loss: 0.0392 - accuracy: 0.9802 - val_loss: 6.9896 - val_accuracy: 0.7431\n",
            "Epoch 99/100\n",
            "32/32 [==============================] - 23s 704ms/step - loss: 0.0375 - accuracy: 0.9822 - val_loss: 7.2113 - val_accuracy: 0.7391\n",
            "Epoch 100/100\n",
            "32/32 [==============================] - 24s 749ms/step - loss: 0.0342 - accuracy: 0.9822 - val_loss: 7.7516 - val_accuracy: 0.7352\n"
          ]
        }
      ],
      "source": [
        "history=model.fit(X_train, y_train, epochs=100, batch_size=32, validation_data=(X_test, y_test))"
      ]
    },
    {
      "cell_type": "code",
      "execution_count": null,
      "metadata": {
        "colab": {
          "base_uri": "https://localhost:8080/"
        },
        "id": "YTfmYBurdEVV",
        "outputId": "a234f339-4716-4a5c-a80a-0b1b4484f101"
      },
      "outputs": [
        {
          "output_type": "stream",
          "name": "stdout",
          "text": [
            "0.7351778745651245\n"
          ]
        }
      ],
      "source": [
        "test_accuracy=model.evaluate(X_test,y_test,verbose=0)\n",
        "print(test_accuracy[1])"
      ]
    },
    {
      "cell_type": "code",
      "execution_count": null,
      "metadata": {
        "colab": {
          "base_uri": "https://localhost:8080/",
          "height": 427
        },
        "id": "dJ6_BILwsjb_",
        "outputId": "98727e4e-2129-4f0a-daa9-27c432d2e6a6"
      },
      "outputs": [
        {
          "output_type": "execute_result",
          "data": {
            "text/plain": [
              "<matplotlib.legend.Legend at 0x7e0031805120>"
            ]
          },
          "metadata": {},
          "execution_count": 18
        },
        {
          "output_type": "display_data",
          "data": {
            "text/plain": [
              "<Figure size 1200x400 with 1 Axes>"
            ],
            "image/png": "[encoded data removed]"
          },
          "metadata": {}
        }
      ],
      "source": [
        "import matplotlib.pyplot as plt\n",
        "\n",
        "\n",
        "\n",
        "# Plot training history\n",
        "plt.figure(figsize=(12, 4))\n",
        "\n",
        "# Plot training & validation accuracy values\n",
        "plt.subplot(1, 2, 1)\n",
        "plt.plot(history.history['accuracy'])\n",
        "plt.plot(history.history['val_accuracy'])\n",
        "plt.title('Model Accuracy')\n",
        "plt.xlabel('Epoch')\n",
        "plt.ylabel('Accuracy')\n",
        "plt.legend(['Train', 'Test'], loc='upper left')\n",
        "\n"
      ]
    },
    {
      "cell_type": "code",
      "execution_count": null,
      "metadata": {
        "id": "6zXPBdoXdNqf"
      },
      "outputs": [],
      "source": [
        "model.save('scream_model.h5')"
      ]
    },
    {
      "cell_type": "code",
      "execution_count": null,
      "metadata": {
        "colab": {
          "base_uri": "https://localhost:8080/"
        },
        "id": "g3o0pP_nd2nx",
        "outputId": "c904fb18-e47a-4864-f1f9-64af00dd4385"
      },
      "outputs": [
        {
          "output_type": "stream",
          "name": "stdout",
          "text": [
            "1/1 [==============================] - 0s 95ms/step\n",
            "Class: NotScreaming, Probability: 0.9995\n",
            "Class: Screaming, Probability: 0.0005\n",
            "The audio is classified as: NotScreaming\n",
            "Accuracy: 0.9995\n"
          ]
        }
      ],
      "source": [
        "model = load_model('scream_model.h5')\n",
        "\n",
        "# Define the target shape for input spectrograms\n",
        "target_shape = (128, 128)\n",
        "\n",
        "# Define your class labels\n",
        "classes = ['NotScreaming','Screaming']\n",
        "\n",
        "# Function to preprocess and classify an audio file\n",
        "def test_audio(file_path, model):\n",
        "    # Load and preprocess the audio file\n",
        "    audio_data, sample_rate = librosa.load(file_path, sr=None)\n",
        "    mel_spectrogram = librosa.feature.melspectrogram(y=audio_data, sr=sample_rate)\n",
        "    mel_spectrogram = resize(np.expand_dims(mel_spectrogram, axis=-1), target_shape)\n",
        "    mel_spectrogram = tf.reshape(mel_spectrogram, (1,) + target_shape + (1,))\n",
        "\n",
        "    # Make predictions\n",
        "    predictions = model.predict(mel_spectrogram)\n",
        "\n",
        "    # Get the class probabilities\n",
        "    class_probabilities = predictions[0]\n",
        "\n",
        "    # Get the predicted class index\n",
        "    predicted_class_index = np.argmax(class_probabilities)\n",
        "\n",
        "    return class_probabilities, predicted_class_index\n",
        "\n",
        "# Test an audio file\n",
        "test_audio_file = '/content/ZzyWbehtt0M_out.wav' #not screaming\n",
        "class_probabilities, predicted_class_index = test_audio(test_audio_file, model)\n",
        "\n",
        "# Display results for all classes\n",
        "for i, class_label in enumerate(classes):\n",
        "    probability = class_probabilities[i]\n",
        "    print(f'Class: {class_label}, Probability: {probability:.4f}')\n",
        "\n",
        "# Calculate and display the predicted class and accuracy\n",
        "predicted_class = classes[predicted_class_index]\n",
        "accuracy = class_probabilities[predicted_class_index]\n",
        "print(f'The audio is classified as: {predicted_class}')\n",
        "print(f'Accuracy: {accuracy:.4f}')"
      ]
    },
    {
      "cell_type": "code",
      "execution_count": null,
      "metadata": {
        "colab": {
          "base_uri": "https://localhost:8080/"
        },
        "id": "_ZuLXLXyioP8",
        "outputId": "d8f3020c-b709-4bed-b504-54c02764da4c"
      },
      "outputs": [
        {
          "output_type": "stream",
          "name": "stdout",
          "text": [
            "1/1 [==============================] - 0s 46ms/step\n",
            "Class: NotScreaming, Probability: 0.0000\n",
            "Class: Screaming, Probability: 1.0000\n",
            "The audio is classified as: Screaming\n",
            "Accuracy: 1.0000\n"
          ]
        }
      ],
      "source": [
        "# Test an audio file\n",
        "test_audio_file = '/content/Zz74xjBKvmE_out.wav' #screaming\n",
        "class_probabilities, predicted_class_index = test_audio(test_audio_file, model)\n",
        "\n",
        "# Display results for all classes\n",
        "for i, class_label in enumerate(classes):\n",
        "    probability = class_probabilities[i]\n",
        "    print(f'Class: {class_label}, Probability: {probability:.4f}')\n",
        "\n",
        "# Calculate and display the predicted class and accuracy\n",
        "predicted_class = classes[predicted_class_index]\n",
        "accuracy = class_probabilities[predicted_class_index]\n",
        "print(f'The audio is classified as: {predicted_class}')\n",
        "print(f'Accuracy: {accuracy:.4f}')"
      ]
    }
  ],
  "metadata": {
    "colab": {
      "provenance": [],
      "mount_file_id": "1K7uj31E-1EQVb6MSPFJMiy9HEmBDewSc",
      "authorship_tag": "ABX9TyOUNw0dM7NDtUqJ5nmmzbgE",
      "include_colab_link": true
    },
    "kernelspec": {
      "display_name": "Python 3",
      "name": "python3"
    },
    "language_info": {
      "name": "python"
    }
  },
  "nbformat": 4,
  "nbformat_minor": 0
}